{
 "cells": [
  {
   "cell_type": "code",
   "execution_count": null,
   "id": "0",
   "metadata": {},
   "outputs": [],
   "source": [
    "import matplotlib.pyplot as plt\n",
    "import numpy as np\n",
    "from numpy.typing import NDArray\n",
    "from PIL import Image\n",
    "from transformers import pipeline\n",
    "import trimesh"
   ]
  },
  {
   "cell_type": "code",
   "execution_count": null,
   "id": "1",
   "metadata": {},
   "outputs": [],
   "source": [
    "depth_estimator = pipeline(\n",
    "    \"depth-estimation\", model=\"depth-anything/Depth-Anything-V2-Small-hf\"\n",
    ")"
   ]
  },
  {
   "cell_type": "code",
   "execution_count": null,
   "id": "2",
   "metadata": {},
   "outputs": [],
   "source": [
    "image_dim = 512"
   ]
  },
  {
   "cell_type": "code",
   "execution_count": null,
   "id": "3",
   "metadata": {},
   "outputs": [],
   "source": [
    "image_path = \"example_img.png\"\n",
    "original_image = Image.open(image_path).convert(\"RGB\")\n",
    "original_image = original_image.resize((image_dim, image_dim))\n",
    "\n",
    "display(original_image)"
   ]
  },
  {
   "cell_type": "code",
   "execution_count": null,
   "id": "4",
   "metadata": {},
   "outputs": [],
   "source": [
    "# Estimate depth\n",
    "depth_result = depth_estimator(original_image)\n",
    "depth_array = np.array(depth_result[\"depth\"])\n",
    "\n",
    "# Explicit normalization (model may produce unnormalized output)\n",
    "depth_norm = (depth_array - depth_array.min()) / (depth_array.max() - depth_array.min())\n",
    "\n",
    "# Visualize normalized depth with cutoff applied\n",
    "plt.imshow(depth_norm, cmap=\"gray\")\n",
    "plt.title(\"Normalized Depth\")\n",
    "plt.axis(\"off\")\n",
    "plt.show()"
   ]
  },
  {
   "cell_type": "code",
   "execution_count": null,
   "id": "5",
   "metadata": {},
   "outputs": [],
   "source": [
    "# Configurable cutoff threshold\n",
    "depth_threshold = 0.5  # between 0 and 1\n",
    "depth_cutoff = np.clip(depth_norm, depth_threshold, 1.0)\n",
    "depth_cutoff -= 0.5\n",
    "depth_cutoff /= 0.5\n",
    "\n",
    "# Visualize normalized depth with cutoff applied\n",
    "plt.imshow(depth_cutoff, cmap=\"gray\")\n",
    "plt.title(\"Normalized Depth with Cutoff\")\n",
    "plt.axis(\"off\")\n",
    "plt.show()"
   ]
  },
  {
   "cell_type": "code",
   "execution_count": null,
   "id": "6",
   "metadata": {},
   "outputs": [],
   "source": [
    "# Optionally save depth image to greyscale png for hand-editing\n",
    "# array_16_bit = (depth_cutoff * 65535).astype(np.uint16)\n",
    "# image = Image.fromarray(array_16_bit, mode='I;16')\n",
    "# image.save(\"downsampled_heightmap.png\")"
   ]
  },
  {
   "cell_type": "code",
   "execution_count": null,
   "id": "7",
   "metadata": {},
   "outputs": [],
   "source": [
    "# Optionally reload greyscale depth image post-editing\n",
    "# edited_image = Image.open(\"downsampled_heightmap.png\").convert('I;16')\n",
    "# loaded_array_16_bit = np.array(edited_image, dtype=np.float32)\n",
    "# depth_cutoff = loaded_array_16_bit / 65535.0"
   ]
  },
  {
   "cell_type": "code",
   "execution_count": null,
   "id": "8",
   "metadata": {},
   "outputs": [],
   "source": [
    "# Find coordinates of non-black (valid) pixels\n",
    "nonzero_coords = np.argwhere(depth_cutoff > 0.0)\n",
    "\n",
    "# Compute tight bounding rectangle around non-black pixels\n",
    "y_min, x_min = nonzero_coords.min(axis=0)\n",
    "y_max, x_max = nonzero_coords.max(axis=0)\n",
    "\n",
    "# Width and height of bounding rectangle with buffer\n",
    "width = x_max - x_min\n",
    "height = y_max - y_min\n",
    "\n",
    "# Determine side length of square (largest dimension)\n",
    "side_length = max(width, height)\n",
    "\n",
    "# Center of buffered bounding box\n",
    "center_x = (x_min + x_max) // 2\n",
    "center_y = (y_min + y_max) // 2\n",
    "\n",
    "# Compute square coordinates, ensuring bounds stay within image dimensions\n",
    "half_side = side_length // 2\n",
    "new_x_min = max(center_x - half_side, 0)\n",
    "new_x_max = min(center_x + half_side, depth_cutoff.shape[1])\n",
    "new_y_min = max(center_y - half_side, 0)\n",
    "new_y_max = min(center_y + half_side, depth_cutoff.shape[0])\n",
    "\n",
    "# Perform cropping\n",
    "cropped_depth = depth_cutoff[new_y_min:new_y_max, new_x_min:new_x_max]\n",
    "\n",
    "# Display cropped depth map with buffer\n",
    "plt.imshow(cropped_depth, cmap=\"gray\")\n",
    "plt.title(\"Cropped Depth Map\")\n",
    "plt.axis(\"off\")\n",
    "plt.show()"
   ]
  },
  {
   "cell_type": "code",
   "execution_count": null,
   "id": "9",
   "metadata": {},
   "outputs": [],
   "source": [
    "# Downsample to desired resolution\n",
    "resolution = 128  # Configurable\n",
    "downsampled_depth = np.array(\n",
    "    Image.fromarray(cropped_depth).resize(\n",
    "        (resolution, resolution), resample=Image.BILINEAR\n",
    "    )\n",
    ")\n",
    "\n",
    "# Visualize the downsampled depth map\n",
    "plt.imshow(downsampled_depth, cmap=\"gray\")\n",
    "plt.title(\"Downsampled Depth Map\")\n",
    "plt.axis(\"off\")\n",
    "plt.show()"
   ]
  },
  {
   "cell_type": "code",
   "execution_count": null,
   "id": "10",
   "metadata": {},
   "outputs": [],
   "source": [
    "def generate_enclosed_heightfield(\n",
    "    height_map: NDArray, h_spacing: float = 1.0, height_scale: float = 1.0\n",
    ") -> trimesh.Trimesh:\n",
    "    \"\"\"Create a fully enclosed height map mesh from a normalized value height nap\n",
    "\n",
    "    Args:\n",
    "        height_map: 2D height map array\n",
    "        h_spacing: Horizontal spacing between adjacent vertices\n",
    "        height_scale: Scaling to apply to the height values\n",
    "\n",
    "    Returns:\n",
    "        Fully enclosed Trimesh of the height map\n",
    "    \"\"\"\n",
    "    height_map = np.flipud(height_map)\n",
    "    input_rows, input_cols = height_map.shape\n",
    "\n",
    "    # Add outer ring\n",
    "    grid_rows, grid_cols = input_rows + 2, input_cols + 2\n",
    "\n",
    "    # Generate grid vertices with outer ring\n",
    "    x = np.linspace(0, (grid_cols - 1) * h_spacing, grid_cols)\n",
    "    y = np.linspace(0, (grid_rows - 1) * h_spacing, grid_rows)\n",
    "    xv, yv = np.meshgrid(x, y)\n",
    "\n",
    "    # Create expanded height map with outer vertices at 0 height\n",
    "    height = np.zeros((grid_rows, grid_cols))\n",
    "    height[1:-1, 1:-1] = height_map * height_scale\n",
    "\n",
    "    vertices = np.column_stack([xv.ravel(), yv.ravel(), height.ravel()])\n",
    "\n",
    "    # Calculate vertex indices for each quad\n",
    "    row_indices, col_indices = np.indices((grid_rows - 1, grid_cols - 1))\n",
    "    base_indices = row_indices * grid_cols + col_indices\n",
    "\n",
    "    # Correct winding order for top surface faces\n",
    "    faces = np.column_stack(\n",
    "        [\n",
    "            base_indices.ravel(),\n",
    "            (base_indices + 1).ravel(),\n",
    "            (base_indices + grid_cols).ravel(),\n",
    "            (base_indices + 1).ravel(),\n",
    "            (base_indices + grid_cols + 1).ravel(),\n",
    "            (base_indices + grid_cols).ravel(),\n",
    "        ]\n",
    "    ).reshape(-1, 3)\n",
    "\n",
    "    # Add a central vertex at the base center\n",
    "    center_base_vertex = np.array([[np.mean(x), np.mean(y), 0]])\n",
    "    vertices = np.vstack([vertices, center_base_vertex])\n",
    "    center_vertex_index = vertices.shape[0] - 1\n",
    "\n",
    "    # Identify boundary vertices (outer ring)\n",
    "    top_row = np.arange(grid_cols)\n",
    "    bottom_row = np.arange(grid_cols * (grid_rows - 1), grid_cols * grid_rows)\n",
    "    left_column = np.arange(grid_cols, grid_cols * (grid_rows - 1), grid_cols)\n",
    "    right_column = np.arange(2 * grid_cols - 1, grid_cols * (grid_rows - 1), grid_cols)\n",
    "\n",
    "    boundary_indices = np.concatenate(\n",
    "        [top_row, right_column, bottom_row[::-1], left_column[::-1]]\n",
    "    )\n",
    "\n",
    "    # Create bottom faces efficiently (inverted winding)\n",
    "    bottom_faces = np.column_stack(\n",
    "        [\n",
    "            np.roll(boundary_indices, -1),\n",
    "            boundary_indices,\n",
    "            np.full(len(boundary_indices), center_vertex_index),\n",
    "        ]\n",
    "    )\n",
    "\n",
    "    # Combine top and bottom faces\n",
    "    faces = np.vstack([faces, bottom_faces])\n",
    "\n",
    "    # Create and return the watertight mesh\n",
    "    return trimesh.Trimesh(vertices=vertices, faces=faces)"
   ]
  },
  {
   "cell_type": "code",
   "execution_count": null,
   "id": "11",
   "metadata": {},
   "outputs": [],
   "source": [
    "mesh = generate_enclosed_heightfield(\n",
    "    height_map=downsampled_depth, h_spacing=0.16, height_scale=14.0\n",
    ")"
   ]
  },
  {
   "cell_type": "code",
   "execution_count": null,
   "id": "12",
   "metadata": {},
   "outputs": [],
   "source": [
    "mesh.show()"
   ]
  },
  {
   "cell_type": "code",
   "execution_count": null,
   "id": "13",
   "metadata": {},
   "outputs": [],
   "source": [
    "# Optional - subtract a thin box to remove any flat parts of the height field\n",
    "box_size = [\n",
    "    mesh.bounds[1][0] * 1.05,\n",
    "    mesh.bounds[1][0] * 1.05,\n",
    "    0.05,\n",
    "]  # x, y, z dimensions\n",
    "\n",
    "# Create the box mesh\n",
    "box = trimesh.creation.box(extents=box_size)\n",
    "mesh_center_x = (mesh.bounds[0, 0] + mesh.bounds[1, 0]) / 2\n",
    "mesh_center_y = (mesh.bounds[0, 1] + mesh.bounds[1, 1]) / 2\n",
    "box.apply_translation((mesh_center_x, mesh_center_y, 0.0))\n",
    "final_mesh = trimesh.boolean.difference([mesh, box])\n",
    "final_mesh.show()"
   ]
  },
  {
   "cell_type": "code",
   "execution_count": null,
   "id": "14",
   "metadata": {},
   "outputs": [],
   "source": [
    "final_mesh.export(\"no_background.stl\")\n",
    "pass"
   ]
  },
  {
   "cell_type": "code",
   "execution_count": null,
   "id": "15",
   "metadata": {},
   "outputs": [],
   "source": [
    "# Optional - attach a cylinder background\n",
    "# Calculate cylinder radius as half-diagonal to fully enclose square face mesh\n",
    "mesh_h_size = mesh.bounds[1, 1]\n",
    "cylinder_radius = np.sqrt(2 * ((mesh_h_size / 2) ** 2)) * 1.05  # +5% margin\n",
    "cylinder_height = 1.0  # configurable thickness in mm\n",
    "cylinder = trimesh.creation.cylinder(\n",
    "    radius=cylinder_radius, height=cylinder_height, sections=64\n",
    ")\n",
    "\n",
    "# Position cylinder behind mesh clearly below the lowest Z-value of mesh\n",
    "mesh_center_x = (mesh.bounds[0, 0] + mesh.bounds[1, 0]) / 2\n",
    "mesh_center_y = (mesh.bounds[0, 1] + mesh.bounds[1, 1]) / 2\n",
    "cylinder_z_offset = mesh.bounds[0, 2] - (cylinder_height / 2)\n",
    "\n",
    "# Translate cylinder to correct position\n",
    "cylinder.apply_translation((mesh_center_x, mesh_center_y, cylinder_z_offset))\n",
    "\n",
    "# Combine face mesh with cylinder backing\n",
    "# final_mesh = trimesh.util.concatenate([tri_mesh, cylinder])\n",
    "final_mesh = trimesh.boolean.union([mesh, cylinder])\n",
    "final_mesh.show()"
   ]
  },
  {
   "cell_type": "code",
   "execution_count": null,
   "id": "16",
   "metadata": {},
   "outputs": [],
   "source": [
    "final_mesh.export(\"cylinder_background.stl\")\n",
    "pass"
   ]
  }
 ],
 "metadata": {
  "kernelspec": {
   "display_name": "Python 3 (ipykernel)",
   "language": "python",
   "name": "python3"
  },
  "language_info": {
   "codemirror_mode": {
    "name": "ipython",
    "version": 3
   },
   "file_extension": ".py",
   "mimetype": "text/x-python",
   "name": "python",
   "nbconvert_exporter": "python",
   "pygments_lexer": "ipython3",
   "version": "3.13.2"
  }
 },
 "nbformat": 4,
 "nbformat_minor": 5
}
